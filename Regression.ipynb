{
 "cells": [
  {
   "cell_type": "markdown",
   "id": "d12d56c4",
   "metadata": {},
   "source": [
    "#### Project:\n",
    "\n",
    "1. Use the predictors(Cylinders,Weight,Horsepower) to fit a kNN model to find y(MPG) (choose appropriate values of k using CV)\n",
    "2. Fit linear regression on the same data. Use CV to validate the model.\n",
    "3. Fit decision tree on the same data. Use CV to validate the model.\n",
    "4. Choose the best competing models for testing\n",
    "5. Report the best performing model.\n",
    "\n",
    "\n",
    "GIVE EXPLANATIONS"
   ]
  },
  {
   "cell_type": "markdown",
   "id": "da918ce7",
   "metadata": {},
   "source": [
    "### Importing Libraries"
   ]
  },
  {
   "cell_type": "code",
   "execution_count": 1,
   "id": "18fb0298",
   "metadata": {},
   "outputs": [],
   "source": [
    "import numpy as np\n",
    "import pandas as pd\n",
    "import matplotlib.pyplot as plt\n",
    "import time\n",
    "\n",
    "#for test-train split\n",
    "from sklearn.model_selection import train_test_split\n",
    "\n",
    "#for fitting KNN\n",
    "from sklearn.neighbors import KNeighborsRegressor\n",
    "\n",
    "#for fitting LinearRegression\n",
    "from sklearn.linear_model import LinearRegression\n",
    "\n",
    "#for fitting regression tree\n",
    "from sklearn.tree import DecisionTreeRegressor\n",
    "\n",
    "#to compute cross validation score\n",
    "from sklearn.model_selection import cross_val_score"
   ]
  },
  {
   "cell_type": "code",
   "execution_count": null,
   "id": "97a81e6c",
   "metadata": {},
   "outputs": [],
   "source": []
  },
  {
   "cell_type": "markdown",
   "id": "d88fb410",
   "metadata": {},
   "source": [
    "### Reading data"
   ]
  },
  {
   "cell_type": "code",
   "execution_count": 2,
   "id": "a52e755c",
   "metadata": {},
   "outputs": [],
   "source": [
    "cars = pd.read_csv('cars.csv')                #reading csv file\n",
    "X = cars[['Cylinders','Weight','Horsepower']] #assigning predictors\n",
    "y = cars['MPG']                               #assigning target variable"
   ]
  },
  {
   "cell_type": "code",
   "execution_count": null,
   "id": "96d1677d",
   "metadata": {},
   "outputs": [],
   "source": []
  },
  {
   "cell_type": "markdown",
   "id": "e3fdca70",
   "metadata": {},
   "source": [
    "### Train_test_split"
   ]
  },
  {
   "cell_type": "code",
   "execution_count": 3,
   "id": "8fcec2e8",
   "metadata": {},
   "outputs": [],
   "source": [
    "#using 70-30 train-test split and later use cross validation\n",
    "X_train,X_test,y_train,y_test = train_test_split(X,y,test_size=0.3) "
   ]
  },
  {
   "cell_type": "code",
   "execution_count": null,
   "id": "92759d57",
   "metadata": {},
   "outputs": [],
   "source": []
  },
  {
   "cell_type": "markdown",
   "id": "b0374f52",
   "metadata": {},
   "source": [
    "### KNN model"
   ]
  },
  {
   "cell_type": "markdown",
   "id": "78a5c8a4",
   "metadata": {},
   "source": [
    "#### Range of k values are passed on to find the cv_scores(MAE) and the optimum k-value is determined. \n",
    "\n",
    "As the length of the training data is around 284, 15 *(at all iteration, 93% is used for training data and 7% is used for validating data)* is used as cv value to predict MAE"
   ]
  },
  {
   "cell_type": "code",
   "execution_count": 4,
   "id": "b486c060",
   "metadata": {},
   "outputs": [],
   "source": [
    "#Using cross-validation to choose optimal k for kNN\n",
    "neighbors = list(range(1,250))\n",
    "\n",
    "#empty list that will hold cv_scores\n",
    "cv_scores=[]\n",
    "\n",
    "#perform 15-fold cross validation to find cv_score(MAE)\n",
    "for k in neighbors:\n",
    "    knn = KNeighborsRegressor(n_neighbors=k)\n",
    "    scores = cross_val_score(knn,X_train,y_train,cv=15,scoring='neg_mean_absolute_error')\n",
    "    cv_scores.append(scores.mean())"
   ]
  },
  {
   "cell_type": "code",
   "execution_count": 5,
   "id": "95431b7c",
   "metadata": {},
   "outputs": [
    {
     "data": {
      "image/png": "[encoded data removed]",
      "text/plain": [
       "<Figure size 432x288 with 1 Axes>"
      ]
     },
     "metadata": {
      "needs_background": "light"
     },
     "output_type": "display_data"
    }
   ],
   "source": [
    "#plot neg_mean_absolute_error vs k\n",
    "plt.plot(neighbors,cv_scores)\n",
    "plt.title('MAE vs n_neighbors')\n",
    "plt.xlabel('Number of Neighbors K')\n",
    "plt.ylabel('Mean absolute error')\n",
    "plt.show()"
   ]
  },
  {
   "cell_type": "code",
   "execution_count": 6,
   "id": "179900b0",
   "metadata": {},
   "outputs": [
    {
     "data": {
      "text/plain": [
       "-3.357912682941923"
      ]
     },
     "execution_count": 6,
     "metadata": {},
     "output_type": "execute_result"
    }
   ],
   "source": [
    "#finding the minimum MAE\n",
    "np.max(cv_scores) #since negative MAE is calculated, np.max is used"
   ]
  },
  {
   "cell_type": "code",
   "execution_count": 7,
   "id": "bf5ed4b3",
   "metadata": {},
   "outputs": [
    {
     "data": {
      "text/plain": [
       "array([248, 247, 246, 245, 244, 243, 242, 241, 240, 239, 238, 237, 236,\n",
       "       235, 234, 233, 232, 231, 230, 229, 228, 227, 226, 225, 224, 223,\n",
       "       222, 221, 220, 219, 218, 217, 216, 215, 214, 213, 212, 211, 210,\n",
       "       209, 208, 207, 206, 205, 204, 203, 202, 201, 200, 199, 198, 197,\n",
       "       196, 195, 194, 193, 192, 191, 190, 189, 188, 187, 186, 185, 184,\n",
       "       183, 182, 181, 180, 179, 178, 177, 176, 175, 174, 173, 172, 171,\n",
       "       170,   0, 169, 168, 167, 166, 165, 164, 163, 162, 161, 160, 159,\n",
       "       158, 157, 156, 155, 154, 153, 152, 151, 150, 149, 148, 147, 146,\n",
       "       145, 144, 143, 142, 141, 139, 140, 138, 137, 136, 135,   1, 134,\n",
       "       133, 132, 131, 130, 129, 128, 127, 126, 125, 124, 123, 122, 121,\n",
       "         2, 120, 119, 118, 117, 116, 115, 114,   3, 113, 112, 111, 110,\n",
       "       109, 108, 107, 106, 105, 104, 103,   9, 102, 101, 100,  99,  98,\n",
       "        97,   4,  96,  93,  92,   7,  94,  91,  95,   8,  12,  90,  10,\n",
       "        88,  89,  87,   5,  86,  85,   6,  84,  82,  83,  13,  14,  11,\n",
       "        81,  15,  80,  16,  79,  78,  17,  77,  18,  76,  19,  25,  75,\n",
       "        21,  24,  20,  22,  26,  74,  23,  73,  27,  72,  71,  28,  70,\n",
       "        69,  36,  30,  68,  37,  67,  29,  33,  34,  31,  35,  46,  51,\n",
       "        38,  52,  47,  53,  32,  44,  66,  54,  41,  42,  45,  55,  50,\n",
       "        39,  57,  56,  58,  43,  49,  48,  40,  59,  65,  60,  64,  63,\n",
       "        61,  62], dtype=int64)"
      ]
     },
     "execution_count": 7,
     "metadata": {},
     "output_type": "execute_result"
    }
   ],
   "source": [
    "np.argsort(cv_scores) #sorting the index in ascending order of cv_scores and getting the index of minimum MAE"
   ]
  },
  {
   "cell_type": "code",
   "execution_count": 8,
   "id": "e1e8a056",
   "metadata": {},
   "outputs": [
    {
     "data": {
      "text/plain": [
       "-3.357912682941923"
      ]
     },
     "execution_count": 8,
     "metadata": {},
     "output_type": "execute_result"
    }
   ],
   "source": [
    "cv_scores[62] #cross check the value of cv_score at that index"
   ]
  },
  {
   "cell_type": "markdown",
   "id": "fd661c1f",
   "metadata": {},
   "source": [
    "### Error is minimum at k=63"
   ]
  },
  {
   "cell_type": "code",
   "execution_count": null,
   "id": "4b2e1aec",
   "metadata": {},
   "outputs": [],
   "source": []
  },
  {
   "cell_type": "markdown",
   "id": "e14b1ba7",
   "metadata": {},
   "source": [
    "### Linear Regression model"
   ]
  },
  {
   "cell_type": "markdown",
   "id": "9a1f2b6f",
   "metadata": {},
   "source": [
    "#### Linear regression gives us a single equation to predict the target variable and the variance in the predicted value can be high. \n",
    "\n",
    "*As the number of predictors considered are less in this dataset, it is preferrable to use KNN or Decision Tree as both of them give a more accurate value and the cv_score(MAE) calcuated in these models is also proving us the same*"
   ]
  },
  {
   "cell_type": "code",
   "execution_count": 9,
   "id": "08b3bf36",
   "metadata": {},
   "outputs": [],
   "source": [
    "lr = LinearRegression() #fitting linear regression model"
   ]
  },
  {
   "cell_type": "code",
   "execution_count": 10,
   "id": "7d055d0b",
   "metadata": {},
   "outputs": [],
   "source": [
    "#finding cv_scores(MAE)\n",
    "cv_scores = []\n",
    "scores = cross_val_score(lr,X_train,y_train,cv=15,scoring='neg_mean_absolute_error')\n",
    "cv_scores.append(scores.mean())"
   ]
  },
  {
   "cell_type": "code",
   "execution_count": 11,
   "id": "747354a1",
   "metadata": {},
   "outputs": [
    {
     "data": {
      "text/plain": [
       "[-3.6980682234109366]"
      ]
     },
     "execution_count": 11,
     "metadata": {},
     "output_type": "execute_result"
    }
   ],
   "source": [
    "cv_scores"
   ]
  },
  {
   "cell_type": "code",
   "execution_count": null,
   "id": "c09d5d5d",
   "metadata": {},
   "outputs": [],
   "source": []
  },
  {
   "cell_type": "markdown",
   "id": "d9781e49",
   "metadata": {},
   "source": [
    "### Regression Decision Tree"
   ]
  },
  {
   "cell_type": "markdown",
   "id": "15ea6ea8",
   "metadata": {},
   "source": [
    "#### Range of depth and leaf values are passed on to find the cv_scores(MAE) and the optimum (depth,leaf) value is found out. \n",
    " "
   ]
  },
  {
   "cell_type": "code",
   "execution_count": 12,
   "id": "2475c8ec",
   "metadata": {},
   "outputs": [],
   "source": [
    "#creating a list to assume values of depth and sample leaf\n",
    "depth = list(range(1,11))\n",
    "leaf = list(range(1,11))"
   ]
  },
  {
   "cell_type": "code",
   "execution_count": 13,
   "id": "d5f5137c",
   "metadata": {
    "scrolled": true
   },
   "outputs": [
    {
     "data": {
      "text/plain": [
       "100"
      ]
     },
     "execution_count": 13,
     "metadata": {},
     "output_type": "execute_result"
    }
   ],
   "source": [
    "#creating a tuple to have all combinations of the assumed depth and sample leaf\n",
    "tup = [(x,y) for x in depth for y in leaf]\n",
    "tup\n",
    "len(tup)"
   ]
  },
  {
   "cell_type": "code",
   "execution_count": 14,
   "id": "4bffb0a7",
   "metadata": {},
   "outputs": [
    {
     "data": {
      "text/plain": [
       "100"
      ]
     },
     "execution_count": 14,
     "metadata": {},
     "output_type": "execute_result"
    }
   ],
   "source": [
    "#ceating a array of numbers to use it as X-axis in graph and taking the relevant tuple based on minimum error\n",
    "base = np.arange(0,100,1)\n",
    "len(base)"
   ]
  },
  {
   "cell_type": "code",
   "execution_count": 15,
   "id": "4d70bd09",
   "metadata": {},
   "outputs": [],
   "source": [
    "#finding cv_scores(MAE) for all assumed values of depth and sample leaf\n",
    "cv_scores=[]\n",
    "for i in tup:\n",
    "    reg = DecisionTreeRegressor(max_depth = i[0],min_samples_leaf = i[1])\n",
    "    scores = cross_val_score(reg, X_train, y_train, cv=15, scoring='neg_mean_absolute_error')\n",
    "    cv_scores.append(scores.mean())\n"
   ]
  },
  {
   "cell_type": "code",
   "execution_count": 16,
   "id": "b16fae81",
   "metadata": {},
   "outputs": [
    {
     "data": {
      "text/plain": [
       "100"
      ]
     },
     "execution_count": 16,
     "metadata": {},
     "output_type": "execute_result"
    }
   ],
   "source": [
    "len(cv_scores)"
   ]
  },
  {
   "cell_type": "code",
   "execution_count": 17,
   "id": "55776b40",
   "metadata": {},
   "outputs": [
    {
     "data": {
      "image/png": "[encoded data removed]",
      "text/plain": [
       "<Figure size 432x288 with 1 Axes>"
      ]
     },
     "metadata": {
      "needs_background": "light"
     },
     "output_type": "display_data"
    }
   ],
   "source": [
    "#plot neg_mean_absolute_error vs base(i.e,.max_depth,min_samples_leaf)\n",
    "plt.plot(base,cv_scores)\n",
    "plt.title('MAE vs (depth,leaf)')\n",
    "plt.ylabel('Mean absolute error')\n",
    "plt.show()"
   ]
  },
  {
   "cell_type": "code",
   "execution_count": 18,
   "id": "39c873db",
   "metadata": {},
   "outputs": [
    {
     "data": {
      "text/plain": [
       "-3.4707493412908965"
      ]
     },
     "execution_count": 18,
     "metadata": {},
     "output_type": "execute_result"
    }
   ],
   "source": [
    "#finding the minimum MAE\n",
    "np.max(cv_scores) #since negative MAE is calculated, np.max is used"
   ]
  },
  {
   "cell_type": "code",
   "execution_count": 19,
   "id": "96f636ec",
   "metadata": {},
   "outputs": [
    {
     "data": {
      "text/plain": [
       "array([ 9,  1,  2,  3,  4,  5,  6,  7,  8,  0, 90, 70, 80, 81, 91, 61, 50,\n",
       "       72, 62, 82, 92, 71, 43, 63, 73, 83, 60, 93, 52, 53, 51, 42, 74, 44,\n",
       "       40, 94, 84, 64, 41, 65, 75, 85, 95, 54, 14, 19, 16, 11, 10, 13, 17,\n",
       "       18, 12, 15, 55, 33, 45, 97, 87, 77, 76, 67, 86, 96, 32, 57, 58, 66,\n",
       "       68, 88, 78, 98, 31, 69, 56, 30, 79, 99, 59, 89, 46, 34, 49, 47, 48,\n",
       "       20, 38, 21, 24, 37, 23, 35, 36, 39, 22, 29, 28, 27, 26, 25],\n",
       "      dtype=int64)"
      ]
     },
     "execution_count": 19,
     "metadata": {},
     "output_type": "execute_result"
    }
   ],
   "source": [
    "np.argsort(cv_scores) #sorting the index in ascending order of cv_scores and getting the index of minimum MAE"
   ]
  },
  {
   "cell_type": "code",
   "execution_count": 20,
   "id": "744b91a6",
   "metadata": {},
   "outputs": [
    {
     "data": {
      "text/plain": [
       "-3.4707493412908965"
      ]
     },
     "execution_count": 20,
     "metadata": {},
     "output_type": "execute_result"
    }
   ],
   "source": [
    "cv_scores[25] #cross check the value of cv_score at that index"
   ]
  },
  {
   "cell_type": "code",
   "execution_count": 21,
   "id": "fdee50ce",
   "metadata": {},
   "outputs": [
    {
     "data": {
      "text/plain": [
       "(3, 6)"
      ]
     },
     "execution_count": 21,
     "metadata": {},
     "output_type": "execute_result"
    }
   ],
   "source": [
    "tup[25] #getting the value of depth and sample leaf from the created tuple"
   ]
  },
  {
   "cell_type": "markdown",
   "id": "148e6084",
   "metadata": {},
   "source": [
    "#### Error is minimum at depth = 3 & min_samples_leaf = 6"
   ]
  },
  {
   "cell_type": "markdown",
   "id": "26720d90",
   "metadata": {},
   "source": [
    "The drop in cv_score is negligible if the depth value(for all values of leaf) is taken more than 7. \n",
    "The same can be observed in the plotted MAE vs (depth,leaf) graph. \n",
    "\n",
    "\n",
    "\n",
    "Hence the cv_score(MAE) was checked for depth & leaf values in the range (1 to 10)"
   ]
  },
  {
   "cell_type": "markdown",
   "id": "b59a5ee1",
   "metadata": {},
   "source": [
    "## Conclusion:\n",
    "\n",
    "CV score(MAE) is almost in the same range for both KNN and Regression-Decision Tree (for different values of training data).\n",
    "\n",
    "\n",
    "So both the models are chosen for testing."
   ]
  },
  {
   "cell_type": "markdown",
   "id": "4da0ac4c",
   "metadata": {},
   "source": []
  },
  {
   "cell_type": "markdown",
   "id": "34c849cf",
   "metadata": {},
   "source": [
    "### Testing the Models (KNN & Decision Tree)"
   ]
  },
  {
   "cell_type": "code",
   "execution_count": 22,
   "id": "b02a8a97",
   "metadata": {},
   "outputs": [
    {
     "name": "stdout",
     "output_type": "stream",
     "text": [
      "MAE:  3.6008025956284158\n",
      "Time taken: 0.005495786666870117 secs\n"
     ]
    }
   ],
   "source": [
    "#KNN\n",
    "start = time.time()                                       #start time is noted\n",
    "knn = KNeighborsRegressor(n_neighbors=48)                 #knn model is initiated using the k-value as found before\n",
    "knn.fit(X_train,y_train)                                  #fitting the model\n",
    "y_pred = knn.predict(X_test)                              #predicting the target variable\n",
    "print('MAE: ',np.mean(np.abs((np.array(y_test)-y_pred)))) #calculating performance metric(MAE)\n",
    "stop = time.time()                                        #stop time is noted\n",
    "print('Time taken: '+str(stop-start)+ ' secs')            #time taken to run the model is calculated\n"
   ]
  },
  {
   "cell_type": "code",
   "execution_count": 23,
   "id": "1724c95a",
   "metadata": {},
   "outputs": [
    {
     "name": "stdout",
     "output_type": "stream",
     "text": [
      "MAE:  3.582419798760846\n",
      "Time taken: 0.0053751468658447266 secs\n"
     ]
    }
   ],
   "source": [
    "#Regression Decision Tree\n",
    "start = time.time()                                              #start time is noted\n",
    "rdt = DecisionTreeRegressor(max_depth = 3,min_samples_leaf = 9)  #decision tree model is initiated using depth and sample leaf value as found before\n",
    "rdt.fit(X_train,y_train)                                         #fitting the model\n",
    "y_pred = rdt.predict(X_test)                                     #predicting the target variable\n",
    "print('MAE: ',np.mean(np.abs((np.array(y_test)-y_pred))))        #calculating performance metric(MAE)\n",
    "stop = time.time()                                               #stop time is noted\n",
    "print('Time taken: '+str(stop-start)+ ' secs')                   #time taken to run the model is calculated"
   ]
  },
  {
   "cell_type": "markdown",
   "id": "e62bdaae",
   "metadata": {},
   "source": [
    "## Final Inference:"
   ]
  },
  {
   "cell_type": "markdown",
   "id": "b21b2fde",
   "metadata": {},
   "source": [
    "For the calculated hyperparameters, Decision Tree runs faster . Also Decision Tree ensures homogeneity in the target variable. Hence Decision Tree is the best performing model for the considered predictors and target variable!!!"
   ]
  },
  {
   "cell_type": "code",
   "execution_count": null,
   "id": "5ccf632d",
   "metadata": {},
   "outputs": [],
   "source": []
  }
 ],
 "metadata": {
  "kernelspec": {
   "display_name": "Python 3",
   "language": "python",
   "name": "python3"
  },
  "language_info": {
   "codemirror_mode": {
    "name": "ipython",
    "version": 3
   },
   "file_extension": ".py",
   "mimetype": "text/x-python",
   "name": "python",
   "nbconvert_exporter": "python",
   "pygments_lexer": "ipython3",
   "version": "3.8.8"
  }
 },
 "nbformat": 4,
 "nbformat_minor": 5
}
